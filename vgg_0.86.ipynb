{
  "cells": [
    {
      "cell_type": "code",
      "execution_count": 1,
      "metadata": {
        "id": "P4_CChvUdgUX"
      },
      "outputs": [],
      "source": [
        "import keras,os\n",
        "from keras.models import Sequential\n",
        "from keras.layers import Dense, Conv2D, MaxPool2D , Flatten\n",
        "from keras.preprocessing.image import ImageDataGenerator\n",
        "import numpy as np"
      ]
    },
    {
      "cell_type": "code",
      "execution_count": 2,
      "metadata": {
        "colab": {
          "base_uri": "https://localhost:8080/"
        },
        "id": "ViPOtwQxUfW0",
        "outputId": "40aedbdc-23df-4196-a0de-8bd3db145a39"
      },
      "outputs": [
        {
          "name": "stdout",
          "output_type": "stream",
          "text": [
            "Looking in indexes: https://pypi.org/simple, https://us-python.pkg.dev/colab-wheels/public/simple/\n",
            "Requirement already satisfied: kaggle in /usr/local/lib/python3.7/dist-packages (1.5.12)\n",
            "Requirement already satisfied: python-dateutil in /usr/local/lib/python3.7/dist-packages (from kaggle) (2.8.2)\n",
            "Requirement already satisfied: six>=1.10 in /usr/local/lib/python3.7/dist-packages (from kaggle) (1.15.0)\n",
            "Requirement already satisfied: requests in /usr/local/lib/python3.7/dist-packages (from kaggle) (2.23.0)\n",
            "Requirement already satisfied: certifi in /usr/local/lib/python3.7/dist-packages (from kaggle) (2022.5.18.1)\n",
            "Requirement already satisfied: tqdm in /usr/local/lib/python3.7/dist-packages (from kaggle) (4.64.0)\n",
            "Requirement already satisfied: python-slugify in /usr/local/lib/python3.7/dist-packages (from kaggle) (6.1.2)\n",
            "Requirement already satisfied: urllib3 in /usr/local/lib/python3.7/dist-packages (from kaggle) (1.24.3)\n",
            "Requirement already satisfied: text-unidecode>=1.3 in /usr/local/lib/python3.7/dist-packages (from python-slugify->kaggle) (1.3)\n",
            "Requirement already satisfied: idna<3,>=2.5 in /usr/local/lib/python3.7/dist-packages (from requests->kaggle) (2.10)\n",
            "Requirement already satisfied: chardet<4,>=3.0.2 in /usr/local/lib/python3.7/dist-packages (from requests->kaggle) (3.0.4)\n",
            "Downloading nn22-weather-analysis-using-image-recognition.zip to /content\n",
            " 99% 581M/586M [00:06<00:00, 127MB/s]\n",
            "100% 586M/586M [00:06<00:00, 101MB/s]\n"
          ]
        }
      ],
      "source": [
        "! pip install kaggle\n",
        "! mkdir ~/.kaggle\n",
        "! cp kaggle.json ~/.kaggle/\n",
        "! chmod 600 ~/.kaggle/kaggle.json\n",
        "! kaggle competitions download nn22-weather-analysis-using-image-recognition"
      ]
    },
    {
      "cell_type": "code",
      "execution_count": 3,
      "metadata": {
        "id": "7Wyw65z_VoWg"
      },
      "outputs": [],
      "source": [
        "from zipfile import ZipFile\n",
        "with ZipFile('/content/nn22-weather-analysis-using-image-recognition.zip', 'r') as zipObj:\n",
        "  # Extract all the contents of zip file in current directory\n",
        "   zipObj.extractall()"
      ]
    },
    {
      "cell_type": "code",
      "execution_count": 4,
      "metadata": {
        "colab": {
          "base_uri": "https://localhost:8080/"
        },
        "id": "QuVZfaIynk5R",
        "outputId": "76356476-8fa8-4c95-9c47-6bc19e00e296"
      },
      "outputs": [
        {
          "name": "stdout",
          "output_type": "stream",
          "text": [
            "557   dew\n",
            "750   fogsmog\n",
            "334   frost\n",
            "538   glaze\n",
            "450   hail\n",
            "276   lightning\n",
            "385   rain\n",
            "131   rainbow\n",
            "1059   rime\n",
            "551   sandstorm\n",
            "520   snow\n",
            "5551\n"
          ]
        }
      ],
      "source": [
        "import os\n",
        "from os import listdir\n",
        "import numpy as np\n",
        "sum=0\n",
        "path='/content/Dataset/Train'\n",
        "Train_list = sorted(listdir(path))\n",
        "for i in Train_list:\n",
        "  l=listdir(os.path.join(path, i))\n",
        "  sum+=len(l)\n",
        "  print(len(l),\" \",i)\n",
        "\n",
        "print(sum)"
      ]
    },
    {
      "cell_type": "code",
      "execution_count": 1,
      "metadata": {
        "id": "DM7Ww0goSLm3"
      },
      "outputs": [],
      "source": [
        "import tensorflow as tf\n",
        "from tensorflow import keras"
      ]
    },
    {
      "cell_type": "code",
      "execution_count": 6,
      "metadata": {
        "id": "PpllJ_3rQCfs"
      },
      "outputs": [],
      "source": [
        "# FOR DATA AUGMENTATION\n",
        "train_datagen = tf.keras.preprocessing.image.ImageDataGenerator(\n",
        "      rotation_range=30,\n",
        "      width_shift_range=0.2, # Shifting image width by 20%\n",
        "      height_shift_range=0.2,# Shifting image height by 20%\n",
        "      shear_range=0.2,       # Rotation across X-axis by 20%\n",
        "      # zoom_range=0.3,        # Image zooming by 30%\n",
        "      horizontal_flip=True,\n",
        "      fill_mode='reflect')"
      ]
    },
    {
      "cell_type": "code",
      "execution_count": 8,
      "metadata": {
        "id": "AnBZ1qdSQvtZ"
      },
      "outputs": [],
      "source": [
        "# AUGMENT A SPECIFIC FOLDER\n",
        "def augment(index,label_name,copies,count):\n",
        "  f = Train_list[index]\n",
        "  img_path = os.path.join(path, f)\n",
        "  c=0\n",
        "  x=0\n",
        "  for i in listdir(img_path):\n",
        "    img=os.path.join(img_path, i)\n",
        "    img_data = keras.preprocessing.image.load_img(img)\n",
        "    img_data=keras.preprocessing.image.img_to_array(img_data)\n",
        "    img_data=img_data.reshape((1,)+img_data.shape)\n",
        "    y=0\n",
        "    for b in train_datagen.flow(img_data,batch_size=1,save_to_dir=img_path,save_prefix=label_name,save_format='jpg'):\n",
        "      y+=1\n",
        "      if y==copies:\n",
        "        break\n",
        "    c+=1\n",
        "    if count!=-1:\n",
        "      x+=1\n",
        "      if x==count:\n",
        "        break\n",
        "  l2=listdir(os.path.join(path, Train_list[index]))\n",
        "  print(len(l2),\" \",Train_list[index])"
      ]
    },
    {
      "cell_type": "code",
      "execution_count": 9,
      "metadata": {
        "colab": {
          "base_uri": "https://localhost:8080/"
        },
        "id": "AIICA9W858lO",
        "outputId": "25530b05-31e7-423b-a161-a9158b3b4f18"
      },
      "outputs": [
        {
          "name": "stdout",
          "output_type": "stream",
          "text": [
            "762   rainbow\n"
          ]
        }
      ],
      "source": [
        "augment(7,'rainbow',5,-1)"
      ]
    },
    {
      "cell_type": "code",
      "execution_count": 10,
      "metadata": {
        "colab": {
          "base_uri": "https://localhost:8080/"
        },
        "id": "YT8TCzc27Pl1",
        "outputId": "0b170d43-58c7-4af1-bde1-c1a58b8620f5"
      },
      "outputs": [
        {
          "name": "stdout",
          "output_type": "stream",
          "text": [
            "813   lightning\n"
          ]
        }
      ],
      "source": [
        "augment(5,'lightning',2,-1)"
      ]
    },
    {
      "cell_type": "code",
      "execution_count": 11,
      "metadata": {
        "colab": {
          "base_uri": "https://localhost:8080/"
        },
        "id": "zqQn2ehP7n5w",
        "outputId": "a26cba24-2f9b-442a-a1e2-135f69796288"
      },
      "outputs": [
        {
          "name": "stdout",
          "output_type": "stream",
          "text": [
            "976   frost\n"
          ]
        }
      ],
      "source": [
        "augment(2,'frost',2,-1)"
      ]
    },
    {
      "cell_type": "code",
      "execution_count": 12,
      "metadata": {
        "colab": {
          "base_uri": "https://localhost:8080/"
        },
        "id": "_arW7g1z8Pt1",
        "outputId": "e20118d5-f8ff-4a63-b7e8-cb9eed371c25"
      },
      "outputs": [
        {
          "name": "stdout",
          "output_type": "stream",
          "text": [
            "774   dew\n"
          ]
        }
      ],
      "source": [
        "augment(0,'dew',1,220)"
      ]
    },
    {
      "cell_type": "code",
      "execution_count": 13,
      "metadata": {
        "colab": {
          "base_uri": "https://localhost:8080/"
        },
        "id": "scs8Dwbf8SI5",
        "outputId": "e0546606-2a30-4778-ab76-c3c35c96dacc"
      },
      "outputs": [
        {
          "name": "stdout",
          "output_type": "stream",
          "text": [
            "799   glaze\n"
          ]
        }
      ],
      "source": [
        "augment(3,'glaze',1,265)"
      ]
    },
    {
      "cell_type": "code",
      "execution_count": 14,
      "metadata": {
        "colab": {
          "base_uri": "https://localhost:8080/"
        },
        "id": "UoOHQx0O9VB2",
        "outputId": "aa7ba538-2d6a-47d2-ed93-41f80f146673"
      },
      "outputs": [
        {
          "name": "stdout",
          "output_type": "stream",
          "text": [
            "797   hail\n"
          ]
        }
      ],
      "source": [
        "augment(4,'hail',1,355)"
      ]
    },
    {
      "cell_type": "code",
      "execution_count": 15,
      "metadata": {
        "colab": {
          "base_uri": "https://localhost:8080/"
        },
        "id": "Ig7w08Rr9lOw",
        "outputId": "d1935dba-a4a2-4993-c267-4dcd3ada7ebb"
      },
      "outputs": [
        {
          "name": "stdout",
          "output_type": "stream",
          "text": [
            "764   rain\n"
          ]
        }
      ],
      "source": [
        "augment(6,'rain',1,-1)"
      ]
    },
    {
      "cell_type": "code",
      "execution_count": 16,
      "metadata": {
        "colab": {
          "base_uri": "https://localhost:8080/"
        },
        "id": "mGySEYAs940b",
        "outputId": "4df88265-7877-40b4-8666-b7c5ff971f30"
      },
      "outputs": [
        {
          "name": "stdout",
          "output_type": "stream",
          "text": [
            "799   snow\n"
          ]
        }
      ],
      "source": [
        "augment(10,'snow',1,285)"
      ]
    },
    {
      "cell_type": "code",
      "execution_count": 17,
      "metadata": {
        "colab": {
          "base_uri": "https://localhost:8080/"
        },
        "id": "d_lb6zlQ960m",
        "outputId": "0892b8e2-a176-4c8e-a2c7-f895b000f9ef"
      },
      "outputs": [
        {
          "name": "stdout",
          "output_type": "stream",
          "text": [
            "802   sandstorm\n"
          ]
        }
      ],
      "source": [
        "augment(9,'sandstorm',1,255) "
      ]
    },
    {
      "cell_type": "code",
      "execution_count": 18,
      "metadata": {
        "colab": {
          "base_uri": "https://localhost:8080/"
        },
        "id": "-pNr-yUZWr_q",
        "outputId": "5d7c3a70-5b4d-451f-c75f-27e2d146d818"
      },
      "outputs": [
        {
          "name": "stdout",
          "output_type": "stream",
          "text": [
            "Found 9095 files belonging to 11 classes.\n",
            "Using 9086 files for training.\n"
          ]
        }
      ],
      "source": [
        "train_ds = tf.keras.utils.image_dataset_from_directory(\n",
        "  path,\n",
        "  seed=42,\n",
        "  image_size=(224, 224),\n",
        "  validation_split=0.001,\n",
        "  subset=\"training\",\n",
        "  batch_size=1)"
      ]
    },
    {
      "cell_type": "code",
      "execution_count": 19,
      "metadata": {
        "colab": {
          "base_uri": "https://localhost:8080/"
        },
        "id": "t3jm8rPce0ty",
        "outputId": "4412d1d5-22ac-4d70-9526-206d83a41a77"
      },
      "outputs": [
        {
          "name": "stdout",
          "output_type": "stream",
          "text": [
            "Found 9095 files belonging to 11 classes.\n",
            "Using 9 files for validation.\n"
          ]
        }
      ],
      "source": [
        "val_ds = tf.keras.utils.image_dataset_from_directory(\n",
        "  path,\n",
        "  seed=42,\n",
        "  image_size=(224, 224),\n",
        "  validation_split=0.001,\n",
        "  subset=\"validation\",\n",
        "  batch_size=1)"
      ]
    },
    {
      "cell_type": "code",
      "execution_count": 22,
      "metadata": {
        "id": "1kcKBPWtwrA2"
      },
      "outputs": [],
      "source": [
        "#class_names = train_ds.class_names\n",
        "#print(class_names)"
      ]
    },
    {
      "cell_type": "code",
      "execution_count": 23,
      "metadata": {
        "id": "ICEwlpYRwygZ"
      },
      "outputs": [],
      "source": [
        "# import matplotlib.pyplot as plt\n",
        "\n",
        "# plt.figure(figsize=(10, 10))\n",
        "# for images, labels in train_ds.take(1):\n",
        "#   for i in range(9):\n",
        "#     ax = plt.subplot(3, 3, i + 1)\n",
        "#     plt.imshow(images[i].numpy().astype(\"uint8\"))\n",
        "#     plt.title(labels[i].numpy())\n",
        "#     plt.axis(\"off\")\n"
      ]
    },
    {
      "cell_type": "code",
      "execution_count": 32,
      "metadata": {
        "id": "Vk8UgfPn0dh5"
      },
      "outputs": [],
      "source": [
        "def process_images(image, label):\n",
        "    # Normalize images to have a mean of 0 and standard deviation of 1\n",
        "    image = tf.image.per_image_standardization(image)\n",
        "    return image, label"
      ]
    },
    {
      "cell_type": "code",
      "execution_count": 2,
      "metadata": {
        "id": "tALbsMQG14Tg"
      },
      "outputs": [],
      "source": [
        "# VGG19 ARCITECHTURE\n",
        "from keras.models import Sequential\n",
        "from keras.layers.core import Flatten, Dense, Dropout\n",
        "from keras.layers.convolutional import Convolution2D, MaxPooling2D, ZeroPadding2D\n",
        "model = Sequential()\n",
        "model.add(Convolution2D(64, 3, 3, activation='relu',input_shape=(224,224,3)))\n",
        "#model.add(Convolution2D(64,(3,3),padding=\"same\", activation=\"relu\"))\n",
        "model.add(Convolution2D(filters=64,kernel_size=(3,3),padding=\"same\", activation=\"relu\"))\n",
        "model.add(MaxPooling2D(pool_size=(2,2),strides=(2,2)))\n",
        "    \n",
        "model.add(Convolution2D(filters=128,kernel_size=(3,3),padding=\"same\", activation=\"relu\"))\n",
        "model.add(Convolution2D(filters=128,kernel_size=(3,3),padding=\"same\", activation=\"relu\"))\n",
        "model.add(MaxPooling2D(pool_size=(2,2),strides=(2,2)))\n",
        "    \n",
        "model.add(Convolution2D(filters=256,kernel_size=(3,3),padding=\"same\", activation=\"relu\"))\n",
        "model.add(Convolution2D(filters=256,kernel_size=(3,3),padding=\"same\", activation=\"relu\"))\n",
        "model.add(Convolution2D(filters=256,kernel_size=(3,3),padding=\"same\", activation=\"relu\"))\n",
        "    #added\n",
        "model.add(Convolution2D(filters=256,kernel_size=(3,3),padding=\"same\", activation=\"relu\"))\n",
        "model.add(MaxPooling2D(pool_size=(2,2),strides=(2,2)))\n",
        "    \n",
        "model.add(Convolution2D(filters=512,kernel_size=(3,3),padding=\"same\", activation=\"relu\"))\n",
        "model.add(Convolution2D(filters=512,kernel_size=(3,3),padding=\"same\", activation=\"relu\"))\n",
        "model.add(Convolution2D(filters=512,kernel_size=(3,3),padding=\"same\", activation=\"relu\"))\n",
        "    #ADDED\n",
        "model.add(Convolution2D(filters=512,kernel_size=(3,3),padding=\"same\", activation=\"relu\"))\n",
        "model.add(MaxPooling2D(pool_size=(2,2),strides=(2,2)))\n",
        "    \n",
        "model.add(Convolution2D(filters=512,kernel_size=(3,3),padding=\"same\", activation=\"relu\"))\n",
        "model.add(Convolution2D(filters=512,kernel_size=(3,3),padding=\"same\", activation=\"relu\"))\n",
        "model.add(Convolution2D(filters=512,kernel_size=(3,3),padding=\"same\", activation=\"relu\"))\n",
        "      #ADDED\n",
        "model.add(Convolution2D(filters=512,kernel_size=(3,3),padding=\"same\", activation=\"relu\"))\n",
        "model.add(MaxPooling2D(pool_size=(2,2),strides=(2,2)))"
      ]
    },
    {
      "cell_type": "code",
      "execution_count": 3,
      "metadata": {
        "colab": {
          "base_uri": "https://localhost:8080/"
        },
        "id": "xODyF9NeH5_4",
        "outputId": "d5c107aa-95af-48d5-cba7-9f877470d843"
      },
      "outputs": [
        {
          "name": "stdout",
          "output_type": "stream",
          "text": [
            "Model: \"sequential\"\n",
            "_________________________________________________________________\n",
            "Layer (type)                 Output Shape              Param #   \n",
            "=================================================================\n",
            "conv2d (Conv2D)              (None, 74, 74, 64)        1792      \n",
            "_________________________________________________________________\n",
            "conv2d_1 (Conv2D)            (None, 74, 74, 64)        36928     \n",
            "_________________________________________________________________\n",
            "max_pooling2d (MaxPooling2D) (None, 37, 37, 64)        0         \n",
            "_________________________________________________________________\n",
            "conv2d_2 (Conv2D)            (None, 37, 37, 128)       73856     \n",
            "_________________________________________________________________\n",
            "conv2d_3 (Conv2D)            (None, 37, 37, 128)       147584    \n",
            "_________________________________________________________________\n",
            "max_pooling2d_1 (MaxPooling2 (None, 18, 18, 128)       0         \n",
            "_________________________________________________________________\n",
            "conv2d_4 (Conv2D)            (None, 18, 18, 256)       295168    \n",
            "_________________________________________________________________\n",
            "conv2d_5 (Conv2D)            (None, 18, 18, 256)       590080    \n",
            "_________________________________________________________________\n",
            "conv2d_6 (Conv2D)            (None, 18, 18, 256)       590080    \n",
            "_________________________________________________________________\n",
            "conv2d_7 (Conv2D)            (None, 18, 18, 256)       590080    \n",
            "_________________________________________________________________\n",
            "max_pooling2d_2 (MaxPooling2 (None, 9, 9, 256)         0         \n",
            "_________________________________________________________________\n",
            "conv2d_8 (Conv2D)            (None, 9, 9, 512)         1180160   \n",
            "_________________________________________________________________\n",
            "conv2d_9 (Conv2D)            (None, 9, 9, 512)         2359808   \n",
            "_________________________________________________________________\n",
            "conv2d_10 (Conv2D)           (None, 9, 9, 512)         2359808   \n",
            "_________________________________________________________________\n",
            "conv2d_11 (Conv2D)           (None, 9, 9, 512)         2359808   \n",
            "_________________________________________________________________\n",
            "max_pooling2d_3 (MaxPooling2 (None, 4, 4, 512)         0         \n",
            "_________________________________________________________________\n",
            "conv2d_12 (Conv2D)           (None, 4, 4, 512)         2359808   \n",
            "_________________________________________________________________\n",
            "conv2d_13 (Conv2D)           (None, 4, 4, 512)         2359808   \n",
            "_________________________________________________________________\n",
            "conv2d_14 (Conv2D)           (None, 4, 4, 512)         2359808   \n",
            "_________________________________________________________________\n",
            "conv2d_15 (Conv2D)           (None, 4, 4, 512)         2359808   \n",
            "_________________________________________________________________\n",
            "max_pooling2d_4 (MaxPooling2 (None, 2, 2, 512)         0         \n",
            "=================================================================\n",
            "Total params: 20,024,384\n",
            "Trainable params: 20,024,384\n",
            "Non-trainable params: 0\n",
            "_________________________________________________________________\n"
          ]
        }
      ],
      "source": [
        "model.summary()"
      ]
    },
    {
      "cell_type": "code",
      "execution_count": 11,
      "metadata": {
        "id": "8QG2uUWeIDvV"
      },
      "outputs": [],
      "source": [
        "def process_images2(image):\n",
        "    # Normalize images \n",
        "    image = tf.image.per_image_standardization(image)\n",
        "    return image"
      ]
    },
    {
      "cell_type": "code",
      "execution_count": 36,
      "metadata": {
        "id": "A6YonLqkL9yS"
      },
      "outputs": [],
      "source": [
        "train_ds = (train_ds.map(process_images))               \n",
        "val_ds = (val_ds.map(process_images))            "
      ]
    },
    {
      "cell_type": "code",
      "execution_count": 4,
      "metadata": {},
      "outputs": [],
      "source": [
        "model.add(Flatten())\n",
        "model.add(Dense(units=11, activation=\"softmax\"))\n",
        "model.compile(\n",
        "    loss=keras.losses.sparse_categorical_crossentropy,\n",
        "    optimizer=tf.keras.optimizers.SGD(0.0001),\n",
        "    metrics=['accuracy']    \n",
        ")"
      ]
    },
    {
      "cell_type": "code",
      "execution_count": 37,
      "metadata": {
        "colab": {
          "base_uri": "https://localhost:8080/"
        },
        "id": "8V9LtHpF8Wq6",
        "outputId": "c9682857-736a-47b1-f629-f82bac65cc68"
      },
      "outputs": [
        {
          "name": "stdout",
          "output_type": "stream",
          "text": [
            "Downloading data from https://github.com/fchollet/deep-learning-models/releases/download/v0.1/vgg19_weights_tf_dim_ordering_tf_kernels_notop.h5\n",
            "80142336/80134624 [==============================] - 1s 0us/step\n",
            "80150528/80134624 [==============================] - 1s 0us/step\n",
            "Epoch 1/10\n",
            "9086/9086 [==============================] - 209s 22ms/step - loss: 0.8217 - accuracy: 0.7200 - val_loss: 0.5763 - val_accuracy: 0.8889 - lr: 1.0000e-04\n",
            "Epoch 2/10\n",
            "9086/9086 [==============================] - 199s 22ms/step - loss: 0.3960 - accuracy: 0.8653 - val_loss: 0.6155 - val_accuracy: 0.8889 - lr: 1.0000e-04\n",
            "Epoch 3/10\n",
            "9086/9086 [==============================] - 198s 22ms/step - loss: 0.2507 - accuracy: 0.9187 - val_loss: 0.6978 - val_accuracy: 0.8889 - lr: 1.0000e-04\n",
            "Epoch 4/10\n",
            "9086/9086 [==============================] - 197s 22ms/step - loss: 0.1267 - accuracy: 0.9605 - val_loss: 0.7517 - val_accuracy: 0.8889 - lr: 1.0000e-05\n",
            "Epoch 5/10\n",
            "9086/9086 [==============================] - 197s 22ms/step - loss: 0.0982 - accuracy: 0.9712 - val_loss: 0.8301 - val_accuracy: 0.8889 - lr: 1.0000e-05\n"
          ]
        }
      ],
      "source": [
        "# LOADING THE PRETRAINED WEIGHTS FOR IMAGENET\n",
        "WEIGHTS_PATH_NO_TOP = ('https://github.com/fchollet/deep-learning-models/'\n",
        "                       'releases/download/v0.1/'\n",
        "                       'vgg19_weights_tf_dim_ordering_tf_kernels_notop.h5')\n",
        "weights_path = tf.keras.utils.get_file('vgg19_weights_tf_dim_ordering_tf_kernels_notop.h5',WEIGHTS_PATH_NO_TOP)\n",
        "model.load_weights(weights_path)\n",
        "model.add(Flatten())\n",
        "model.add(Dense(units=11, activation=\"softmax\"))\n",
        "model.compile(\n",
        "    loss=keras.losses.sparse_categorical_crossentropy,\n",
        "    optimizer=tf.keras.optimizers.SGD(0.0001),\n",
        "    metrics=['accuracy']    \n",
        ")\n",
        "# #reduce_lr = tf.keras.callbacks.ReduceLROnPlateau(monitor='val_loss', min_lr=0.00001)\n",
        "callback = tf.keras.callbacks.EarlyStopping(monitor='val_loss',patience=4)\n",
        "reduce_lr = tf.keras.callbacks.ReduceLROnPlateau(monitor='val_loss', min_lr=0.0000001,patience=2)\n",
        "history= model.fit(\n",
        "      train_ds,\n",
        "      epochs=10,validation_data=val_ds,callbacks=[reduce_lr,callback] )\n",
        "\n",
        "\n",
        "# model.summary()"
      ]
    },
    {
      "cell_type": "code",
      "execution_count": 6,
      "metadata": {
        "colab": {
          "base_uri": "https://localhost:8080/"
        },
        "id": "l71NMtfz-dk0",
        "outputId": "f98ee1a1-c588-4564-cbe1-b562e386b9d0"
      },
      "outputs": [
        {
          "name": "stdout",
          "output_type": "stream",
          "text": [
            "5\n"
          ]
        }
      ],
      "source": [
        "# import cv2\n",
        "import os\n",
        "from os import listdir\n",
        "import numpy as np\n",
        "testing_data=[]\n",
        "import pandas as pd\n",
        "imagename=[]\n",
        "\n",
        "# path='/content/Dataset/Test'\n",
        "path=\"D:\\\\university\\\\p\\\\ProjectTest\"\n",
        "c=0\n",
        "for f in listdir(path):\n",
        "  img= os.path.join(path, f)\n",
        "  \n",
        "  try:\n",
        "\n",
        "  #  img_data = cv2.imread(img, 1)\n",
        "  #  img_data=cv2.cvtColor(img_data,cv2.COLOR_BGR2RGB)\n",
        "  #  img_data = cv2.resize(img_data, (224, 224))\n",
        "\n",
        "   img_data = keras.preprocessing.image.load_img(img,target_size=(224,224))\n",
        "  #  img_data=keras.preprocessing.image.img_to_array(img_data)\n",
        "   \n",
        "  except:\n",
        "    print(img,'error')\n",
        "    continue\n",
        "\n",
        "  testing_data.append(np.array(img_data))\n",
        "  imagename.append(f)\n",
        "  c+=1\n",
        "     \n",
        "     \n",
        "df = pd.DataFrame (imagename, columns = ['image_name'])\n",
        "print(c) \n"
      ]
    },
    {
      "cell_type": "code",
      "execution_count": 7,
      "metadata": {
        "colab": {
          "base_uri": "https://localhost:8080/",
          "height": 424
        },
        "id": "ag86mf7QIZB8",
        "outputId": "15cfe71d-91f8-47af-f6e8-3b4a040828d7"
      },
      "outputs": [
        {
          "data": {
            "text/html": [
              "<div>\n",
              "<style scoped>\n",
              "    .dataframe tbody tr th:only-of-type {\n",
              "        vertical-align: middle;\n",
              "    }\n",
              "\n",
              "    .dataframe tbody tr th {\n",
              "        vertical-align: top;\n",
              "    }\n",
              "\n",
              "    .dataframe thead th {\n",
              "        text-align: right;\n",
              "    }\n",
              "</style>\n",
              "<table border=\"1\" class=\"dataframe\">\n",
              "  <thead>\n",
              "    <tr style=\"text-align: right;\">\n",
              "      <th></th>\n",
              "      <th>image_name</th>\n",
              "    </tr>\n",
              "  </thead>\n",
              "  <tbody>\n",
              "    <tr>\n",
              "      <th>0</th>\n",
              "      <td>test_1301.jpg</td>\n",
              "    </tr>\n",
              "    <tr>\n",
              "      <th>1</th>\n",
              "      <td>test_1302.jpg</td>\n",
              "    </tr>\n",
              "    <tr>\n",
              "      <th>2</th>\n",
              "      <td>test_1303.jpg</td>\n",
              "    </tr>\n",
              "    <tr>\n",
              "      <th>3</th>\n",
              "      <td>test_1304.jpg</td>\n",
              "    </tr>\n",
              "    <tr>\n",
              "      <th>4</th>\n",
              "      <td>test_1305.jpg</td>\n",
              "    </tr>\n",
              "  </tbody>\n",
              "</table>\n",
              "</div>"
            ],
            "text/plain": [
              "      image_name\n",
              "0  test_1301.jpg\n",
              "1  test_1302.jpg\n",
              "2  test_1303.jpg\n",
              "3  test_1304.jpg\n",
              "4  test_1305.jpg"
            ]
          },
          "execution_count": 7,
          "metadata": {},
          "output_type": "execute_result"
        }
      ],
      "source": [
        "df"
      ]
    },
    {
      "cell_type": "code",
      "execution_count": 8,
      "metadata": {
        "id": "XqaTVnIwizCE"
      },
      "outputs": [],
      "source": [
        "testing_data=np.array(testing_data)"
      ]
    },
    {
      "cell_type": "code",
      "execution_count": 9,
      "metadata": {
        "id": "j4lc3UIRAwWB"
      },
      "outputs": [],
      "source": [
        "test_ds = tf.data.Dataset.from_tensor_slices(testing_data)"
      ]
    },
    {
      "cell_type": "code",
      "execution_count": 10,
      "metadata": {
        "id": "tGpY9bJWdZyJ"
      },
      "outputs": [],
      "source": [
        "model.load_weights(\"C:\\\\Users\\\\Sherif Essam\\\\OneDrive\\\\Desktop\\\\weights_0.86.h5\")"
      ]
    },
    {
      "cell_type": "code",
      "execution_count": 12,
      "metadata": {
        "id": "KrvaQjAdAzDP"
      },
      "outputs": [],
      "source": [
        "test_ds = (test_ds.map(process_images2))"
      ]
    },
    {
      "cell_type": "code",
      "execution_count": 13,
      "metadata": {
        "id": "u7qqkxrpOWUD"
      },
      "outputs": [],
      "source": [
        "test_ds = (test_ds.batch(batch_size=1, drop_remainder=False))"
      ]
    },
    {
      "cell_type": "code",
      "execution_count": 14,
      "metadata": {
        "colab": {
          "base_uri": "https://localhost:8080/"
        },
        "id": "QiHZGQLmI_pu",
        "outputId": "473aecde-a70e-4f7a-eb10-b39c9a93df28"
      },
      "outputs": [
        {
          "name": "stdout",
          "output_type": "stream",
          "text": [
            "[ 8  0 10  6  6]\n"
          ]
        }
      ],
      "source": [
        "p=model.predict(test_ds)\n",
        "pp=np.argmax(p,axis=1)\n",
        "print(pp)"
      ]
    },
    {
      "cell_type": "code",
      "execution_count": 15,
      "metadata": {
        "colab": {
          "base_uri": "https://localhost:8080/",
          "height": 424
        },
        "id": "3Jf1MxEaOpNW",
        "outputId": "38e50cca-1b06-4929-887a-d0d734c6ff8e"
      },
      "outputs": [
        {
          "data": {
            "text/html": [
              "<div>\n",
              "<style scoped>\n",
              "    .dataframe tbody tr th:only-of-type {\n",
              "        vertical-align: middle;\n",
              "    }\n",
              "\n",
              "    .dataframe tbody tr th {\n",
              "        vertical-align: top;\n",
              "    }\n",
              "\n",
              "    .dataframe thead th {\n",
              "        text-align: right;\n",
              "    }\n",
              "</style>\n",
              "<table border=\"1\" class=\"dataframe\">\n",
              "  <thead>\n",
              "    <tr style=\"text-align: right;\">\n",
              "      <th></th>\n",
              "      <th>label</th>\n",
              "    </tr>\n",
              "  </thead>\n",
              "  <tbody>\n",
              "    <tr>\n",
              "      <th>0</th>\n",
              "      <td>8</td>\n",
              "    </tr>\n",
              "    <tr>\n",
              "      <th>1</th>\n",
              "      <td>0</td>\n",
              "    </tr>\n",
              "    <tr>\n",
              "      <th>2</th>\n",
              "      <td>10</td>\n",
              "    </tr>\n",
              "    <tr>\n",
              "      <th>3</th>\n",
              "      <td>6</td>\n",
              "    </tr>\n",
              "    <tr>\n",
              "      <th>4</th>\n",
              "      <td>6</td>\n",
              "    </tr>\n",
              "  </tbody>\n",
              "</table>\n",
              "</div>"
            ],
            "text/plain": [
              "   label\n",
              "0      8\n",
              "1      0\n",
              "2     10\n",
              "3      6\n",
              "4      6"
            ]
          },
          "execution_count": 15,
          "metadata": {},
          "output_type": "execute_result"
        }
      ],
      "source": [
        "df2 = pd.DataFrame (pp, columns = ['label'])\n",
        "# new_row = pd.Series(data={'image_name':'test_1297.jpg', 'label':'10'},name='1300')\n",
        "df2"
      ]
    },
    {
      "cell_type": "code",
      "execution_count": 33,
      "metadata": {
        "colab": {
          "base_uri": "https://localhost:8080/"
        },
        "id": "LkiMc2oKGSO5",
        "outputId": "e4b70a1d-aed9-4932-faf4-1793996ca92a"
      },
      "outputs": [
        {
          "data": {
            "text/plain": [
              "array([10,  6,  1,  7,  2,  9,  8,  5,  0,  4,  3], dtype=int64)"
            ]
          },
          "execution_count": 33,
          "metadata": {},
          "output_type": "execute_result"
        }
      ],
      "source": [
        "df2['label'].unique()"
      ]
    },
    {
      "cell_type": "code",
      "execution_count": 16,
      "metadata": {
        "id": "gCY0ZkfyQ_35"
      },
      "outputs": [],
      "source": [
        "frames = [df, df2]\n",
        "result = pd.concat([df, df2], axis=1, join='inner')\n",
        "# result =result.append(new_row)"
      ]
    },
    {
      "cell_type": "code",
      "execution_count": 17,
      "metadata": {
        "colab": {
          "base_uri": "https://localhost:8080/",
          "height": 424
        },
        "id": "7UwurELKmluB",
        "outputId": "1b9e1a7c-f2f0-48c9-9ab1-e5ce185a899d"
      },
      "outputs": [
        {
          "data": {
            "text/html": [
              "<div>\n",
              "<style scoped>\n",
              "    .dataframe tbody tr th:only-of-type {\n",
              "        vertical-align: middle;\n",
              "    }\n",
              "\n",
              "    .dataframe tbody tr th {\n",
              "        vertical-align: top;\n",
              "    }\n",
              "\n",
              "    .dataframe thead th {\n",
              "        text-align: right;\n",
              "    }\n",
              "</style>\n",
              "<table border=\"1\" class=\"dataframe\">\n",
              "  <thead>\n",
              "    <tr style=\"text-align: right;\">\n",
              "      <th></th>\n",
              "      <th>image_name</th>\n",
              "      <th>label</th>\n",
              "    </tr>\n",
              "  </thead>\n",
              "  <tbody>\n",
              "    <tr>\n",
              "      <th>0</th>\n",
              "      <td>test_1301.jpg</td>\n",
              "      <td>8</td>\n",
              "    </tr>\n",
              "    <tr>\n",
              "      <th>1</th>\n",
              "      <td>test_1302.jpg</td>\n",
              "      <td>0</td>\n",
              "    </tr>\n",
              "    <tr>\n",
              "      <th>2</th>\n",
              "      <td>test_1303.jpg</td>\n",
              "      <td>10</td>\n",
              "    </tr>\n",
              "    <tr>\n",
              "      <th>3</th>\n",
              "      <td>test_1304.jpg</td>\n",
              "      <td>6</td>\n",
              "    </tr>\n",
              "    <tr>\n",
              "      <th>4</th>\n",
              "      <td>test_1305.jpg</td>\n",
              "      <td>6</td>\n",
              "    </tr>\n",
              "  </tbody>\n",
              "</table>\n",
              "</div>"
            ],
            "text/plain": [
              "      image_name  label\n",
              "0  test_1301.jpg      8\n",
              "1  test_1302.jpg      0\n",
              "2  test_1303.jpg     10\n",
              "3  test_1304.jpg      6\n",
              "4  test_1305.jpg      6"
            ]
          },
          "execution_count": 17,
          "metadata": {},
          "output_type": "execute_result"
        }
      ],
      "source": [
        "result"
      ]
    },
    {
      "cell_type": "code",
      "execution_count": 53,
      "metadata": {
        "id": "2m3WtvGOSITx"
      },
      "outputs": [],
      "source": [
        "result.to_csv('A1_1(vgg).csv', index=False)"
      ]
    },
    {
      "cell_type": "code",
      "execution_count": 54,
      "metadata": {
        "id": "fvfy-droyEgI"
      },
      "outputs": [],
      "source": [
        "model.save_weights('weights.h5')"
      ]
    },
    {
      "cell_type": "code",
      "execution_count": 55,
      "metadata": {
        "id": "i2P2QsWadM82"
      },
      "outputs": [],
      "source": [
        "# from keras.models import load_model\n",
        "# model.save('model.h5')\n",
        "# model = load_model('model.h5')"
      ]
    }
  ],
  "metadata": {
    "accelerator": "GPU",
    "colab": {
      "collapsed_sections": [],
      "name": "vgg.ipynb",
      "provenance": []
    },
    "interpreter": {
      "hash": "3245ce477dff5cab7f388d292584ba488c55a0cd8d40c4a02b6e4feb24e4cbf0"
    },
    "kernelspec": {
      "display_name": "Python 3.9.7 64-bit",
      "language": "python",
      "name": "python3"
    },
    "language_info": {
      "codemirror_mode": {
        "name": "ipython",
        "version": 3
      },
      "file_extension": ".py",
      "mimetype": "text/x-python",
      "name": "python",
      "nbconvert_exporter": "python",
      "pygments_lexer": "ipython3",
      "version": "3.9.7 (tags/v3.9.7:1016ef3, Aug 30 2021, 20:19:38) [MSC v.1929 64 bit (AMD64)]"
    }
  },
  "nbformat": 4,
  "nbformat_minor": 0
}
